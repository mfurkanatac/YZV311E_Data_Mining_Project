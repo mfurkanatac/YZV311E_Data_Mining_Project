{
 "cells": [
  {
   "cell_type": "code",
   "execution_count": 1,
   "metadata": {},
   "outputs": [
    {
     "data": {
      "text/plain": [
       "array([[0, 0, 0, ..., 0, 0, 0],\n",
       "       [0, 0, 0, ..., 0, 0, 0],\n",
       "       [0, 0, 0, ..., 0, 0, 0],\n",
       "       ...,\n",
       "       [0, 0, 0, ..., 0, 0, 0],\n",
       "       [0, 0, 0, ..., 0, 0, 0],\n",
       "       [0, 0, 0, ..., 0, 0, 0]], dtype=int64)"
      ]
     },
     "execution_count": 1,
     "metadata": {},
     "output_type": "execute_result"
    }
   ],
   "source": [
    "#importing necessary libraries\n",
    "import pandas as pd\n",
    "import numpy as np\n",
    "from sklearn.model_selection import train_test_split\n",
    "from sklearn.feature_extraction.text import CountVectorizer\n",
    "from sklearn.naive_bayes import MultinomialNB \n",
    "from sklearn.ensemble import RandomForestClassifier\n",
    "from sklearn.metrics import accuracy_score\n",
    "from sklearn.svm import SVC\n",
    "import matplotlib.pyplot as plt\n",
    "from sklearn.metrics import f1_score\n",
    "from sklearn.metrics import classification_report\n",
    "from sklearn.metrics import confusion_matrix\n",
    "from sklearn.ensemble import VotingClassifier\n",
    "import warnings\n",
    "warnings.filterwarnings(\"ignore\", category=FutureWarning)\n",
    "from wordcloud import WordCloud, STOPWORDS\n",
    "import sys, os\n",
    "\n",
    "\n",
    "#Creating a dataframe\n",
    "df1 = pd.read_csv('train_cleaned-2.csv')\n",
    "\n",
    "#Applying the lambda function to categorize the label\n",
    "def categorize_label(label):\n",
    "    if label == 1:\n",
    "        return 'spam'\n",
    "    else:\n",
    "        return 'not spam'\n",
    "    \n",
    "df1['label'] = df1['label'].apply(categorize_label)\n",
    "#Droped unnecessary column\n",
    "df1.drop('cleaned-subject', axis=1, inplace=True)\n",
    "\n",
    "# Converting the label columns' values to spam=1 and not spam=0\n",
    "df1['spam'] = df1['label'].apply(lambda x: 1 if x=='spam' else 0)\n",
    "df1.head()\n",
    "df1.rename(columns={'cleaned-text':'Text'}, inplace=True)\n",
    "df1.update(df1['Text'])\n",
    "\n",
    "df1.dropna(inplace=True)\n",
    "X_train,X_test,y_train,y_test = train_test_split(df1.Text,df1.spam,test_size=0.25)    \n",
    "\n",
    "countvector = CountVectorizer()\n",
    "x_train_ct = countvector.fit_transform(X_train.values)\n",
    "x_train_ct.toarray()"
   ]
  },
  {
   "cell_type": "code",
   "execution_count": 2,
   "metadata": {},
   "outputs": [
    {
     "data": {
      "text/plain": [
       "array([0], dtype=int64)"
      ]
     },
     "execution_count": 2,
     "metadata": {},
     "output_type": "execute_result"
    }
   ],
   "source": [
    "# We will use Multinomial Naive Bayes as our model\n",
    "modelMB = MultinomialNB()\n",
    "modelMB.fit(x_train_ct, y_train)\n",
    "\n",
    "# Pre-test notspam\n",
    "email_notspam = ['hey wanna get some coffee?']\n",
    "email_notspam_count = countvector.transform(email_notspam)\n",
    "modelMB.predict(email_notspam_count)"
   ]
  },
  {
   "cell_type": "code",
   "execution_count": 3,
   "metadata": {},
   "outputs": [
    {
     "data": {
      "text/plain": [
       "array([1], dtype=int64)"
      ]
     },
     "execution_count": 3,
     "metadata": {},
     "output_type": "execute_result"
    }
   ],
   "source": [
    "# Pre-test spam\n",
    "email_spam = ['reward click claim prize free money coupon discount bonus offer only for you 100 Earn back order now limited time offer 50 off today only']\n",
    "email_spam_count = countvector.transform(email_spam)\n",
    "email_spam_count\n",
    "modelMB.predict(email_spam_count)"
   ]
  },
  {
   "cell_type": "code",
   "execution_count": 4,
   "metadata": {},
   "outputs": [],
   "source": [
    "# Testing the model \n",
    "x_test_count = countvector.transform(X_test)\n",
    "naive_bayes_accuracy = modelMB.score(x_test_count, y_test)\n",
    "\n",
    "y_pred = modelMB.predict(x_test_count)\n",
    "\n",
    "# Using Random Forest Classsifier as our model\n",
    "rfc = RandomForestClassifier(n_estimators=100, criterion='entropy')\n",
    "rfc.fit(x_train_ct, y_train)\n",
    "rfc.score(x_test_count, y_test)\n",
    "rfc.predict(email_spam_count)\n",
    "random_forest_accuracy = accuracy_score(y_test, rfc.predict(x_test_count))\n",
    "\n",
    "y_pred = rfc.predict(x_test_count)\n",
    "\n",
    "# Using Support Vector Machine as our model\n",
    "svm_model = SVC()\n",
    "svm_model.fit(x_train_ct, y_train)\n",
    "x_test_count = countvector.transform(X_test)\n",
    "svm_predictions = svm_model.predict(x_test_count)\n",
    "svm_accuracy = accuracy_score(y_test, svm_predictions)\n",
    "\n",
    "y_pred = svm_model.predict(x_test_count)"
   ]
  },
  {
   "cell_type": "code",
   "execution_count": 5,
   "metadata": {},
   "outputs": [],
   "source": [
    "voting_cf = VotingClassifier(estimators=[('nb', modelMB), ('rf', rfc), ('svm', svm_model)], voting='hard')\n",
    "voting_cf.fit(x_train_ct, y_train)\n",
    "voting_cf.score(x_test_count, y_test)\n",
    "voting_cf_accuracy = accuracy_score(y_test, voting_cf.predict(x_test_count))"
   ]
  },
  {
   "cell_type": "code",
   "execution_count": 6,
   "metadata": {},
   "outputs": [
    {
     "data": {
      "text/plain": [
       "0.9395429859616764"
      ]
     },
     "execution_count": 6,
     "metadata": {},
     "output_type": "execute_result"
    }
   ],
   "source": [
    "voting_cf_accuracy"
   ]
  },
  {
   "cell_type": "code",
   "execution_count": null,
   "metadata": {},
   "outputs": [],
   "source": [
    "#importing necessary libraries\n",
    "import pandas as pd\n",
    "import numpy as np\n",
    "from sklearn.model_selection import train_test_split\n",
    "from sklearn.feature_extraction.text import CountVectorizer\n",
    "from sklearn.naive_bayes import MultinomialNB \n",
    "from sklearn.ensemble import RandomForestClassifier\n",
    "from sklearn.metrics import accuracy_score\n",
    "from sklearn.svm import SVC\n",
    "import matplotlib.pyplot as plt\n",
    "from sklearn.metrics import f1_score\n",
    "from sklearn.metrics import classification_report\n",
    "from sklearn.metrics import confusion_matrix\n",
    "from sklearn.ensemble import VotingClassifier\n",
    "import warnings\n",
    "warnings.filterwarnings(\"ignore\", category=FutureWarning)\n",
    "from wordcloud import WordCloud, STOPWORDS\n",
    "import sys, os\n",
    "\n",
    "\n",
    "#Creating a dataframe\n",
    "df1 = pd.read_csv('train_cleaned-2.csv')\n",
    "\n",
    "#Applying the lambda function to categorize the label\n",
    "def categorize_label(label):\n",
    "    if label == 1:\n",
    "        return 'spam'\n",
    "    else:\n",
    "        return 'not spam'\n",
    "    \n",
    "df1['label'] = df1['label'].apply(categorize_label)\n",
    "#Droped unnecessary column\n",
    "df1.drop('cleaned-subject', axis=1, inplace=True)\n",
    "\n",
    "# Converting the label columns' values to spam=1 and not spam=0\n",
    "df1['spam'] = df1['label'].apply(lambda x: 1 if x=='spam' else 0)\n",
    "df1.head()\n",
    "df1.rename(columns={'cleaned-text':'Text'}, inplace=True)\n",
    "df1.update(df1['Text'])\n",
    "\n",
    "df1.dropna(inplace=True)"
   ]
  },
  {
   "cell_type": "code",
   "execution_count": 23,
   "metadata": {},
   "outputs": [
    {
     "name": "stderr",
     "output_type": "stream",
     "text": [
      "Some weights of BertForSequenceClassification were not initialized from the model checkpoint at bert-base-uncased and are newly initialized: ['classifier.bias', 'classifier.weight']\n",
      "You should probably TRAIN this model on a down-stream task to be able to use it for predictions and inference.\n"
     ]
    },
    {
     "name": "stdout",
     "output_type": "stream",
     "text": [
      "1\n"
     ]
    }
   ],
   "source": [
    "import torch \n",
    "from transformers import BertTokenizer, BertForSequenceClassification\n",
    "from sklearn.feature_extraction.text import CountVectorizer\n",
    "from sklearn.model_selection import train_test_split\n",
    "\n",
    "bert_accuracy = 0.97\n",
    "naive_accuracy = 0.93\n",
    "svm_accuracy = 0.89\n",
    "random_accuracy = 0.94\n",
    "\n",
    "def voting_system(bert_label, naive_label, svm_label, random_label):\n",
    "    amount_of_models = 4\n",
    "    vote_threshold = (0.5) ** (amount_of_models ** 0.5)\n",
    "    \n",
    "    weighted_vote = (bert_label * bert_accuracy +\n",
    "                     naive_label * naive_accuracy +\n",
    "                     svm_label * svm_accuracy +\n",
    "                     random_label * random_accuracy)\n",
    "    \n",
    "    return 1 if weighted_vote >= vote_threshold else 0\n",
    "\n",
    "# Load BERT model\n",
    "model = BertForSequenceClassification.from_pretrained('bert-base-uncased', num_labels=2)\n",
    "model.load_state_dict(torch.load('bert_model.pt'))\n",
    "device = torch.device(\"cuda\" if torch.cuda.is_available() else \"cpu\")\n",
    "model.to(device)\n",
    "\n",
    "# Load training data\n",
    "X_train, X_test, y_train, y_test = train_test_split(df1.Text, df1.spam, test_size=0.25)\n",
    "\n",
    "# Initialize and fit CountVectorizer on training data\n",
    "countvector = CountVectorizer()\n",
    "x_train_ct = countvector.fit_transform(X_train.values)\n",
    "x_train_ct.toarray()\n",
    "\n",
    "# Pre-test spam\n",
    "email_spam = ['reward click claim prize free money coupon discount bonus offer only for you 100 Earn back order now limited time offer 50 off today only']\n",
    "email_spam_count = countvector.transform(email_spam)\n",
    "\n",
    "modelMB = MultinomialNB()\n",
    "modelMB.fit(x_train_ct, y_train)\n",
    "\n",
    "svm_model = SVC()\n",
    "svm_model.fit(x_train_ct, y_train)\n",
    "\n",
    "rfc = RandomForestClassifier(n_estimators=100, criterion='entropy')\n",
    "rfc.fit(x_train_ct, y_train)\n",
    "\n",
    "naive_label = modelMB.predict(email_spam_count)\n",
    "svm_label = svm_model.predict(email_spam_count)\n",
    "random_forest_label = rfc.predict(email_spam_count)\n",
    "\n",
    "# Convert to torch tensor and move to the device\n",
    "input_ids = torch.tensor(email_spam_count.toarray()).to(device)\n",
    "\n",
    "max_seq_length = 512\n",
    "input_ids = input_ids[:, :max_seq_length]\n",
    "\n",
    "# Make prediction with BERT\n",
    "model.eval()\n",
    "with torch.no_grad():\n",
    "    outputs = model(input_ids)\n",
    "    bert_label = torch.argmax(outputs.logits, dim=1).item()\n",
    "\n",
    "# Combine predictions using the voting system\n",
    "final_label = voting_system(bert_label, naive_label, svm_label, random_forest_label)\n",
    "\n",
    "print(final_label)"
   ]
  },
  {
   "cell_type": "code",
   "execution_count": null,
   "metadata": {},
   "outputs": [],
   "source": []
  }
 ],
 "metadata": {
  "kernelspec": {
   "display_name": "Python 3",
   "language": "python",
   "name": "python3"
  },
  "language_info": {
   "codemirror_mode": {
    "name": "ipython",
    "version": 3
   },
   "file_extension": ".py",
   "mimetype": "text/x-python",
   "name": "python",
   "nbconvert_exporter": "python",
   "pygments_lexer": "ipython3",
   "version": "3.9.15"
  }
 },
 "nbformat": 4,
 "nbformat_minor": 2
}
